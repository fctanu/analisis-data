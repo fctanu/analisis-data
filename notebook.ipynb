{
  "cells": [
    {
      "cell_type": "markdown",
      "metadata": {
        "id": "H9wADwK78DCz"
      },
      "source": [
        "# Proyek Analisis Data: [Input Nama Dataset]\n",
        "- **Nama:** Francis Colin Tanubrata\n",
        "- **Email:** fctanubrata@gmail.com\n",
        "- **ID Dicoding:** fc_tanu\n"
      ]
    },
    {
      "cell_type": "markdown",
      "metadata": {
        "id": "eE0raob58DC0"
      },
      "source": [
        "## Menentukan Pertanyaan Bisnis"
      ]
    },
    {
      "cell_type": "markdown",
      "metadata": {
        "id": "GmQeQ5YF8DC0"
      },
      "source": [
        "- Pertanyaan 1 :\n",
        "Bagaimana rata-rata jumlah penyewaan sepeda bervariasi di berbagai bulan dalam setahun?\n",
        "- Pertanyaan 2 :\n",
        "Bagaimana distribusi penyewaan sepeda per jam berubah sepanjang hari?"
      ]
    },
    {
      "cell_type": "markdown",
      "metadata": {
        "id": "H-z4QGlO8DC1"
      },
      "source": [
        "## Import Semua Packages/Library yang Digunakan"
      ]
    },
    {
      "cell_type": "code",
      "execution_count": 29,
      "metadata": {
        "id": "FVYwaObI8DC1",
        "colab": {
          "base_uri": "https://localhost:8080/"
        },
        "outputId": "34c3480d-af00-4a17-9746-efbb2ca4a7b6"
      },
      "outputs": [
        {
          "output_type": "stream",
          "name": "stdout",
          "text": [
            "Requirement already satisfied: streamlit in /usr/local/lib/python3.10/dist-packages (1.37.1)\n",
            "Requirement already satisfied: altair<6,>=4.0 in /usr/local/lib/python3.10/dist-packages (from streamlit) (4.2.2)\n",
            "Requirement already satisfied: blinker<2,>=1.0.0 in /usr/lib/python3/dist-packages (from streamlit) (1.4)\n",
            "Requirement already satisfied: cachetools<6,>=4.0 in /usr/local/lib/python3.10/dist-packages (from streamlit) (5.5.0)\n",
            "Requirement already satisfied: click<9,>=7.0 in /usr/local/lib/python3.10/dist-packages (from streamlit) (8.1.7)\n",
            "Requirement already satisfied: numpy<3,>=1.20 in /usr/local/lib/python3.10/dist-packages (from streamlit) (1.26.4)\n",
            "Requirement already satisfied: packaging<25,>=20 in /usr/local/lib/python3.10/dist-packages (from streamlit) (24.1)\n",
            "Requirement already satisfied: pandas<3,>=1.3.0 in /usr/local/lib/python3.10/dist-packages (from streamlit) (2.1.4)\n",
            "Requirement already satisfied: pillow<11,>=7.1.0 in /usr/local/lib/python3.10/dist-packages (from streamlit) (9.4.0)\n",
            "Requirement already satisfied: protobuf<6,>=3.20 in /usr/local/lib/python3.10/dist-packages (from streamlit) (3.20.3)\n",
            "Requirement already satisfied: pyarrow>=7.0 in /usr/local/lib/python3.10/dist-packages (from streamlit) (14.0.2)\n",
            "Requirement already satisfied: requests<3,>=2.27 in /usr/local/lib/python3.10/dist-packages (from streamlit) (2.32.3)\n",
            "Requirement already satisfied: rich<14,>=10.14.0 in /usr/local/lib/python3.10/dist-packages (from streamlit) (13.7.1)\n",
            "Requirement already satisfied: tenacity<9,>=8.1.0 in /usr/local/lib/python3.10/dist-packages (from streamlit) (8.5.0)\n",
            "Requirement already satisfied: toml<2,>=0.10.1 in /usr/local/lib/python3.10/dist-packages (from streamlit) (0.10.2)\n",
            "Requirement already satisfied: typing-extensions<5,>=4.3.0 in /usr/local/lib/python3.10/dist-packages (from streamlit) (4.12.2)\n",
            "Requirement already satisfied: gitpython!=3.1.19,<4,>=3.0.7 in /usr/local/lib/python3.10/dist-packages (from streamlit) (3.1.43)\n",
            "Requirement already satisfied: pydeck<1,>=0.8.0b4 in /usr/local/lib/python3.10/dist-packages (from streamlit) (0.9.1)\n",
            "Requirement already satisfied: tornado<7,>=6.0.3 in /usr/local/lib/python3.10/dist-packages (from streamlit) (6.3.3)\n",
            "Requirement already satisfied: watchdog<5,>=2.1.5 in /usr/local/lib/python3.10/dist-packages (from streamlit) (4.0.2)\n",
            "Requirement already satisfied: entrypoints in /usr/local/lib/python3.10/dist-packages (from altair<6,>=4.0->streamlit) (0.4)\n",
            "Requirement already satisfied: jinja2 in /usr/local/lib/python3.10/dist-packages (from altair<6,>=4.0->streamlit) (3.1.4)\n",
            "Requirement already satisfied: jsonschema>=3.0 in /usr/local/lib/python3.10/dist-packages (from altair<6,>=4.0->streamlit) (4.23.0)\n",
            "Requirement already satisfied: toolz in /usr/local/lib/python3.10/dist-packages (from altair<6,>=4.0->streamlit) (0.12.1)\n",
            "Requirement already satisfied: gitdb<5,>=4.0.1 in /usr/local/lib/python3.10/dist-packages (from gitpython!=3.1.19,<4,>=3.0.7->streamlit) (4.0.11)\n",
            "Requirement already satisfied: python-dateutil>=2.8.2 in /usr/local/lib/python3.10/dist-packages (from pandas<3,>=1.3.0->streamlit) (2.8.2)\n",
            "Requirement already satisfied: pytz>=2020.1 in /usr/local/lib/python3.10/dist-packages (from pandas<3,>=1.3.0->streamlit) (2024.1)\n",
            "Requirement already satisfied: tzdata>=2022.1 in /usr/local/lib/python3.10/dist-packages (from pandas<3,>=1.3.0->streamlit) (2024.1)\n",
            "Requirement already satisfied: charset-normalizer<4,>=2 in /usr/local/lib/python3.10/dist-packages (from requests<3,>=2.27->streamlit) (3.3.2)\n",
            "Requirement already satisfied: idna<4,>=2.5 in /usr/local/lib/python3.10/dist-packages (from requests<3,>=2.27->streamlit) (3.7)\n",
            "Requirement already satisfied: urllib3<3,>=1.21.1 in /usr/local/lib/python3.10/dist-packages (from requests<3,>=2.27->streamlit) (2.0.7)\n",
            "Requirement already satisfied: certifi>=2017.4.17 in /usr/local/lib/python3.10/dist-packages (from requests<3,>=2.27->streamlit) (2024.7.4)\n",
            "Requirement already satisfied: markdown-it-py>=2.2.0 in /usr/local/lib/python3.10/dist-packages (from rich<14,>=10.14.0->streamlit) (3.0.0)\n",
            "Requirement already satisfied: pygments<3.0.0,>=2.13.0 in /usr/local/lib/python3.10/dist-packages (from rich<14,>=10.14.0->streamlit) (2.16.1)\n",
            "Requirement already satisfied: smmap<6,>=3.0.1 in /usr/local/lib/python3.10/dist-packages (from gitdb<5,>=4.0.1->gitpython!=3.1.19,<4,>=3.0.7->streamlit) (5.0.1)\n",
            "Requirement already satisfied: MarkupSafe>=2.0 in /usr/local/lib/python3.10/dist-packages (from jinja2->altair<6,>=4.0->streamlit) (2.1.5)\n",
            "Requirement already satisfied: attrs>=22.2.0 in /usr/local/lib/python3.10/dist-packages (from jsonschema>=3.0->altair<6,>=4.0->streamlit) (24.2.0)\n",
            "Requirement already satisfied: jsonschema-specifications>=2023.03.6 in /usr/local/lib/python3.10/dist-packages (from jsonschema>=3.0->altair<6,>=4.0->streamlit) (2023.12.1)\n",
            "Requirement already satisfied: referencing>=0.28.4 in /usr/local/lib/python3.10/dist-packages (from jsonschema>=3.0->altair<6,>=4.0->streamlit) (0.35.1)\n",
            "Requirement already satisfied: rpds-py>=0.7.1 in /usr/local/lib/python3.10/dist-packages (from jsonschema>=3.0->altair<6,>=4.0->streamlit) (0.20.0)\n",
            "Requirement already satisfied: mdurl~=0.1 in /usr/local/lib/python3.10/dist-packages (from markdown-it-py>=2.2.0->rich<14,>=10.14.0->streamlit) (0.1.2)\n",
            "Requirement already satisfied: six>=1.5 in /usr/local/lib/python3.10/dist-packages (from python-dateutil>=2.8.2->pandas<3,>=1.3.0->streamlit) (1.16.0)\n"
          ]
        }
      ],
      "source": [
        "!pip install streamlit\n",
        "\n",
        "\n",
        "import streamlit as st\n",
        "import numpy as np\n",
        "import pandas as pd\n",
        "import matplotlib.pyplot as plt\n",
        "import seaborn as sns"
      ]
    },
    {
      "cell_type": "markdown",
      "metadata": {
        "id": "h_Sh51Xy8DC1"
      },
      "source": [
        "## Data Wrangling"
      ]
    },
    {
      "cell_type": "markdown",
      "metadata": {
        "id": "sXU2GBYu8DC1"
      },
      "source": [
        "### Gathering Data"
      ]
    },
    {
      "cell_type": "code",
      "execution_count": 30,
      "metadata": {
        "id": "zjCBk1BI8DC1"
      },
      "outputs": [],
      "source": [
        "day_df = pd.read_csv('/day.csv')\n",
        "hour_df = pd.read_csv('/hour.csv')"
      ]
    },
    {
      "cell_type": "markdown",
      "metadata": {
        "id": "FHSiqaZp8DC1"
      },
      "source": [
        "### Assessing Data"
      ]
    },
    {
      "cell_type": "code",
      "source": [
        "# Konversi 'dteday' ke datetime\n",
        "day_df['dteday'] = pd.to_datetime(day_df['dteday'])\n",
        "hour_df['dteday'] = pd.to_datetime(hour_df['dteday'])\n",
        "\n",
        "# Hitung statistik yang diperlukan\n",
        "day_max = day_df['cnt'].max()\n",
        "day_min = day_df['cnt'].min()\n",
        "day_mean = day_df['cnt'].mean()\n",
        "\n",
        "hour_max = hour_df['cnt'].max()\n",
        "hour_min = hour_df['cnt'].min()\n",
        "hour_mean = hour_df['cnt'].mean()\n",
        "\n"
      ],
      "metadata": {
        "id": "ax-3tEjc9Cj1"
      },
      "execution_count": 31,
      "outputs": []
    },
    {
      "cell_type": "markdown",
      "metadata": {
        "id": "EhN5R4hr8DC1"
      },
      "source": [
        "### Cleaning Data"
      ]
    },
    {
      "cell_type": "code",
      "source": [
        "# Ubah `dteday` menjadi waktu-tanggal\n",
        "day_df['dteday'] = pd.to_datetime(day_df['dteday'])\n",
        "hour_df['dteday'] = pd.to_datetime(hour_df['dteday'])\n",
        "\n",
        "# Ekstrak tahun, bulan, dan hari dari `dteday` untuk day_df\n",
        "day_df['year'] = day_df['dteday'].dt.year\n",
        "day_df['month'] = day_df['dteday'].dt.month\n",
        "day_df['day'] = day_df['dteday'].dt.day\n",
        "\n",
        "# Ekstrak tahun, bulan, hari, dan jam dari `dteday` untuk hour_df\n",
        "hour_df['year'] = hour_df['dteday'].dt.year\n",
        "hour_df['month'] = hour_df['dteday'].dt.month\n",
        "hour_df['day'] = hour_df['dteday'].dt.day\n",
        "hour_df['hour'] = hour_df['dteday'].dt.hour"
      ],
      "metadata": {
        "id": "jVnYpprE9Evz"
      },
      "execution_count": 32,
      "outputs": []
    },
    {
      "cell_type": "markdown",
      "metadata": {
        "id": "gp-Y6wU38DC1"
      },
      "source": [
        "## Exploratory Data Analysis (EDA)"
      ]
    },
    {
      "cell_type": "markdown",
      "metadata": {
        "id": "MW7WF2kr8DC1"
      },
      "source": [
        "### Explore Average Rentals per Month\n"
      ]
    },
    {
      "cell_type": "code",
      "execution_count": 33,
      "metadata": {
        "id": "e9CQCZjk8DC2"
      },
      "outputs": [],
      "source": [
        "# Hitung rata-rata penyewaan per bulan\n",
        "monthly_avg_rentals = day_df.groupby(day_df['dteday'].dt.month)['cnt'].mean().reset_index()\n",
        "monthly_avg_rentals.columns = ['bulan', 'cnt']\n"
      ]
    },
    {
      "cell_type": "markdown",
      "source": [
        "### Average Rentals per Hour\n"
      ],
      "metadata": {
        "id": "xBDP4O3KwyGr"
      }
    },
    {
      "cell_type": "code",
      "source": [
        "# Hitung rata-rata penyewaan per jam\n",
        "hourly_avg_rentals = hour_df.groupby('hr')['cnt'].mean().reset_index()\n"
      ],
      "metadata": {
        "id": "cWY2EHinw9hT"
      },
      "execution_count": 34,
      "outputs": []
    },
    {
      "cell_type": "markdown",
      "source": [
        "### Average Rentals : Weekdays vs Weekends"
      ],
      "metadata": {
        "id": "Sm5T43tcw_78"
      }
    },
    {
      "cell_type": "code",
      "source": [
        "# Hitung rata-rata penyewaan untuk hari kerja vs akhir pekan\n",
        "day_df['is_weekend'] = day_df['dteday'].dt.dayofweek.isin([5, 6]) # 5 dan 6 adalah Sabtu dan Minggu\n",
        "avg_rentals_weekday_weekend = day_df.groupby('is_weekend')['cnt'].mean().reset_index()\n",
        "avg_rentals_weekday_weekend['tipe_hari'] = avg_rentals_weekday_weekend['is_weekend'].map({False: 'Hari Kerja (Senin-Jumat)', True: 'Akhir Pekan (Sabtu-Minggu)'})\n"
      ],
      "metadata": {
        "id": "4lSX2vBJxFPq"
      },
      "execution_count": 35,
      "outputs": []
    },
    {
      "cell_type": "markdown",
      "source": [
        "### Average Rentals by Weather\n"
      ],
      "metadata": {
        "id": "IMLHDLwoxHNS"
      }
    },
    {
      "cell_type": "code",
      "source": [
        "# Hitung rata-rata penyewaan berdasarkan cuaca\n",
        "avg_rentals_by_weather = hour_df.groupby('weathersit')['cnt'].mean().reset_index()\n",
        "weather_sit_mapping = {1: 'Jernih', 2: 'Kabut', 3: 'Salju/Hujan Ringan', 4: 'Hujan Salju Berat'}\n",
        "avg_rentals_by_weather['weathersit'] = avg_rentals_by_weather['weathersit'].map(weather_sit_mapping)\n"
      ],
      "metadata": {
        "id": "oxOveNVkxKe9"
      },
      "execution_count": 36,
      "outputs": []
    },
    {
      "cell_type": "markdown",
      "source": [
        "### Casual vs Registered Users per Hour"
      ],
      "metadata": {
        "id": "n_w87hjOxMQt"
      }
    },
    {
      "cell_type": "code",
      "source": [
        "# Hitung persentase pengguna kasual vs terdaftar per jam\n",
        "hour_df['persentase_kasual'] = hour_df['casual'] / hour_df['cnt'] * 100\n",
        "hour_df['persentase_terdaftar'] = hour_df['registered'] / hour_df['cnt'] * 100\n",
        "casual_registered_df = hour_df.groupby('hr')[['persentase_kasual', 'persentase_terdaftar']].mean().reset_index()\n"
      ],
      "metadata": {
        "id": "ndSey8JSxPy2"
      },
      "execution_count": 37,
      "outputs": []
    },
    {
      "cell_type": "markdown",
      "source": [
        "### Total Rentals Over Time"
      ],
      "metadata": {
        "id": "oP6ZKxTQxR-L"
      }
    },
    {
      "cell_type": "code",
      "source": [
        "# Hitung total penyewaan dari waktu ke waktu\n",
        "total_rentals_df = day_df.groupby('dteday')['cnt'].sum().reset_index()\n"
      ],
      "metadata": {
        "id": "lzL856luxWIe"
      },
      "execution_count": 38,
      "outputs": []
    },
    {
      "cell_type": "markdown",
      "source": [
        "### RFM Analysis"
      ],
      "metadata": {
        "id": "RaA1bis5xYvV"
      }
    },
    {
      "cell_type": "code",
      "source": [
        "# Analisis RFM\n",
        "# Menggunakan 'dteday' sebagai tanggal, 'cnt' untuk penyewaan, dan anggap ada 'bike_id' atau identifikasi serupa.\n",
        "rfm_df = day_df.groupby('instant').agg({\n",
        "    'dteday': lambda x: (day_df['dteday'].max() - x.max()).days, # Recency\n",
        "    'instant': 'count', # Frequency\n",
        "    'cnt': 'sum' # Monetary (menggunakan total penyewaan sebagai proksi)\n",
        "}).rename(columns={\n",
        "    'dteday': 'Recency',\n",
        "    'instant': 'Frequency',\n",
        "    'cnt': 'Monetary'\n",
        "}).reset_index()\n"
      ],
      "metadata": {
        "id": "6C7tA3emxaXX"
      },
      "execution_count": 39,
      "outputs": []
    },
    {
      "cell_type": "markdown",
      "source": [
        "### Set Konfigurasi Halaman"
      ],
      "metadata": {
        "id": "joVafA6Oxnuv"
      }
    },
    {
      "cell_type": "code",
      "source": [
        "# Setel konfigurasi halaman\n",
        "st.set_page_config(layout=\"wide\")\n"
      ],
      "metadata": {
        "id": "nbhv4npZxq12"
      },
      "execution_count": 40,
      "outputs": []
    },
    {
      "cell_type": "markdown",
      "source": [
        "### Judul Utama\n"
      ],
      "metadata": {
        "id": "SQj_WL3qxsMN"
      }
    },
    {
      "cell_type": "code",
      "source": [
        "# Judul utama\n",
        "st.title('Dasbor Analisis Penyewaan Sepeda')\n"
      ],
      "metadata": {
        "id": "CTEv8g5UxuSy",
        "colab": {
          "base_uri": "https://localhost:8080/"
        },
        "outputId": "faeeea31-5232-4785-d869-d89de75810c7"
      },
      "execution_count": 41,
      "outputs": [
        {
          "output_type": "execute_result",
          "data": {
            "text/plain": [
              "DeltaGenerator()"
            ]
          },
          "metadata": {},
          "execution_count": 41
        }
      ]
    },
    {
      "cell_type": "markdown",
      "source": [
        "### Top Row : Statistics"
      ],
      "metadata": {
        "id": "bxE45IEBxv3q"
      }
    },
    {
      "cell_type": "code",
      "source": [
        "# Buat dua kolom untuk baris atas\n",
        "col1, col2 = st.columns(2)\n",
        "\n",
        "with col1:\n",
        "    st.header(\"Statistik Penyewaan\")\n",
        "\n",
        "    # Statistik dasar\n",
        "    st.subheader(\"Data Harian (day.csv):\")\n",
        "    st.metric(\"Penyewaan Tertinggi\", f\"{day_max}\")\n",
        "    st.metric(\"Penyewaan Terendah\", f\"{day_min}\")\n",
        "    st.metric(\"Rata-rata Penyewaan\", f\"{day_mean:.2f}\")\n",
        "\n",
        "    st.subheader(\"Data Per Jam (hour.csv):\")\n",
        "    st.metric(\"Penyewaan Tertinggi\", f\"{hour_max}\")\n",
        "    st.metric(\"Penyewaan Terendah\", f\"{hour_min}\")\n",
        "    st.metric(\"Rata-rata Penyewaan\", f\"{hour_mean:.2f}\")\n",
        "\n",
        "with col2:\n",
        "    st.header(\"Polarisasi Musiman dan Harian\")\n",
        "    st.write(\"Data Harian:\")\n",
        "    st.info(\"Penyewaan tertinggi biasanya terjadi pada bulan Juni (musim panas).\")\n",
        "    st.info(\"Penyewaan terendah biasanya terjadi pada bulan Januari (musim dingin).\")\n",
        "\n",
        "    st.write(\"Data Per Jam:\")\n",
        "    st.info(\"Puncak penyewaan pada pukul 8 pagi dan 5 sore, mendukung pola komuter harian.\")\n",
        "    st.info(\"Penyewaan terendah pada jam-jam awal pagi (sekitar pukul 3 pagi).\")\n"
      ],
      "metadata": {
        "id": "4iPTSXHoxzYR"
      },
      "execution_count": 42,
      "outputs": []
    },
    {
      "cell_type": "markdown",
      "metadata": {
        "id": "zsyZjqak8DC2"
      },
      "source": [
        "## Visualization & Explanatory Analysis"
      ]
    },
    {
      "cell_type": "markdown",
      "source": [
        "Average Rentals per Month"
      ],
      "metadata": {
        "id": "xqof1SWvyAry"
      }
    },
    {
      "cell_type": "code",
      "source": [
        "# Buat tiga kolom untuk baris tengah\n",
        "col3, col4, col5 = st.columns(3)\n",
        "\n",
        "with col3:\n",
        "    st.subheader('Rata-rata Penyewaan per Bulan')\n",
        "    st.line_chart(monthly_avg_rentals.set_index('bulan'))\n",
        "    st.info(\"\"\"\n",
        "    Grafik ini menunjukkan rata-rata jumlah penyewaan sepeda untuk setiap bulan.\n",
        "    - Puncak yang lebih tinggi menunjukkan bulan-bulan dengan lebih banyak penyewaan.\n",
        "    - Titik yang lebih rendah mewakili bulan-bulan dengan lebih sedikit penyewaan.\n",
        "    - Ini dapat membantu mengidentifikasi tren musiman dalam pola penyewaan sepeda.\n",
        "    \"\"\")\n"
      ],
      "metadata": {
        "id": "NY_X0qVzyF-s"
      },
      "execution_count": 43,
      "outputs": []
    },
    {
      "cell_type": "markdown",
      "source": [
        "### Average Rentals per Hour\n"
      ],
      "metadata": {
        "id": "hLMUNESVyHTP"
      }
    },
    {
      "cell_type": "code",
      "source": [
        "with col4:\n",
        "    st.subheader('Rata-rata Penyewaan per Jam')\n",
        "    st.line_chart(hourly_avg_rentals.set_index('hr'))\n",
        "    st.info(\"\"\"\n",
        "    Grafik ini menampilkan rata-rata jumlah penyewaan sepeda untuk setiap jam dalam sehari.\n",
        "    - Puncak sering terjadi pada jam-jam komuter (pagi dan sore).\n",
        "    - Titik-titik rendah biasanya mewakili jam-jam malam.\n",
        "    - Ini membantu mengidentifikasi pola harian dalam penggunaan sepeda.\n",
        "    \"\"\")\n"
      ],
      "metadata": {
        "id": "F4fCHjfCyJZH"
      },
      "execution_count": 44,
      "outputs": []
    },
    {
      "cell_type": "markdown",
      "source": [
        "### Average Rentals : Weekdays vs Weekends"
      ],
      "metadata": {
        "id": "X2rQoXxXyKy5"
      }
    },
    {
      "cell_type": "code",
      "source": [
        "with col5:\n",
        "    st.subheader('Rata-rata Penyewaan: Hari Kerja vs Akhir Pekan')\n",
        "\n",
        "    fig, ax = plt.subplots(figsize=(10, 6))\n",
        "    bars = ax.bar(avg_rentals_weekday_weekend['tipe_hari'], avg_rentals_weekday_weekend['cnt'])\n",
        "    ax.set_xlabel('Tipe Hari')\n",
        "    ax.set_ylabel('Rata-rata Penyewaan')\n",
        "    ax.set_title('Rata-rata Penyewaan: Hari Kerja (Senin-Jumat) vs Akhir Pekan (Sabtu-Minggu)')\n",
        "\n",
        "    # Tambahkan label nilai di atas setiap bar\n",
        "    for bar in bars:\n",
        "        height = bar.get_height()\n",
        "        ax.text(bar.get_x() + bar.get_width()/2., height,\n",
        "                f'{height:.0f}',\n",
        "                ha='center', va='bottom')\n",
        "\n",
        "    st.pyplot(fig)\n",
        "\n",
        "    st.info(\"\"\"\n",
        "    Grafik ini membandingkan rata-rata jumlah penyewaan sepeda pada hari kerja versus akhir pekan.\n",
        "    - Hari Kerja: Senin hingga Jumat\n",
        "    - Akhir Pekan: Sabtu dan Minggu\n",
        "    - Ini membantu memahami bagaimana pola penyewaan berbeda antara hari kerja dan hari libur.\n",
        "    \"\"\")\n"
      ],
      "metadata": {
        "id": "Mxo5O89oyPFx"
      },
      "execution_count": 45,
      "outputs": []
    },
    {
      "cell_type": "markdown",
      "source": [
        "### Average Rentals by Weather"
      ],
      "metadata": {
        "id": "Lku8PV0DyQV9"
      }
    },
    {
      "cell_type": "code",
      "source": [
        "# Buat dua kolom untuk baris bawah\n",
        "col6, col7 = st.columns(2)\n",
        "\n",
        "with col6:\n",
        "    st.subheader('Rata-rata Penyewaan Berdasarkan Cuaca')\n",
        "    fig, ax = plt.subplots(figsize=(8, 5))\n",
        "    bars2 = ax.bar(avg_rentals_by_weather['weathersit'], avg_rentals_by_weather['cnt'])\n",
        "    ax.set_xlabel('Situasi Cuaca')\n",
        "    ax.set_ylabel('Rata-rata Penyewaan')\n",
        "    ax.set_title('Rata-rata Penyewaan Berdasarkan Cuaca')\n",
        "\n",
        "    # Anotasi bar\n",
        "    for bar in bars2:\n",
        "        height = bar.get_height()\n",
        "        ax.text(bar.get_x() + bar.get_width()/2., height,\n",
        "                f'{height:.0f}',\n",
        "                ha='center', va='bottom')\n",
        "\n",
        "    st.pyplot(fig)\n",
        "    st.info(\"\"\"\n",
        "    Grafik ini menunjukkan bagaimana kondisi cuaca yang berbeda memengaruhi penyewaan sepeda.\n",
        "    - Setiap bar mewakili situasi cuaca yang berbeda.\n",
        "    - Bar yang lebih tinggi menunjukkan kondisi cuaca yang lebih mendukung penyewaan sepeda.\n",
        "    - Ini membantu memahami dampak cuaca pada pola penyewaan.\n",
        "    \"\"\")\n",
        "\n"
      ],
      "metadata": {
        "id": "sbQjbYdGyTOy"
      },
      "execution_count": 46,
      "outputs": []
    },
    {
      "cell_type": "markdown",
      "source": [
        "### Pengguna Kasual vs Terdaftar per Jam\n"
      ],
      "metadata": {
        "id": "TNYhmO--zBp1"
      }
    },
    {
      "cell_type": "code",
      "source": [
        "with col7:\n",
        "    st.subheader('Pengguna Kasual vs Terdaftar per Jam')\n",
        "    fig, ax = plt.subplots(figsize=(10, 6))\n",
        "    ax.plot(casual_registered_df['hr'], casual_registered_df['persentase_kasual'], label='Kasual', marker='o')\n",
        "    ax.plot(casual_registered_df['hr'], casual_registered_df['persentase_terdaftar'], label='Terdaftar', marker='x')\n",
        "    ax.set_xlabel('Jam')\n",
        "    ax.set_ylabel('Persentase')\n",
        "    ax.set_title('Pengguna Kasual vs Terdaftar per Jam')\n",
        "    ax.legend()\n",
        "    ax.grid(True)\n",
        "    st.pyplot(fig)\n",
        "    st.info(\"\"\"\n",
        "    Grafik ini membandingkan persentase pengguna kasual vs terdaftar untuk setiap jam dalam sehari.\n",
        "    - Pengguna kasual: Mereka yang menggunakan layanan tanpa langganan jangka panjang.\n",
        "    - Pengguna terdaftar: Mereka dengan langganan jangka panjang.\n",
        "    - Ini membantu memahami pola penggunaan antara berbagai jenis pengguna sepanjang hari.\n",
        "    \"\"\")\n"
      ],
      "metadata": {
        "id": "NLXlaCYBzLrl"
      },
      "execution_count": 47,
      "outputs": []
    },
    {
      "cell_type": "markdown",
      "source": [
        "### Total Rentals Over Time"
      ],
      "metadata": {
        "id": "xc-QeoFyzNpt"
      }
    },
    {
      "cell_type": "code",
      "source": [
        "# Buat grafik lebar penuh di bagian bawah\n",
        "st.subheader('Total Penyewaan dari Waktu ke Waktu')\n",
        "fig, ax = plt.subplots(figsize=(12, 6))\n",
        "ax.plot(total_rentals_df['dteday'], total_rentals_df['cnt'], marker='o', linestyle='-')\n",
        "ax.set_xlabel('Tanggal')\n",
        "ax.set_ylabel('Total Penyewaan')\n",
        "ax.set_title('Total Penyewaan dari Waktu ke Waktu')\n",
        "ax.grid(True)\n",
        "st.pyplot(fig)\n",
        "st.info(\"\"\"\n",
        "Grafik ini menunjukkan total jumlah penyewaan sepeda selama periode waktu dataset.\n",
        "- Setiap titik mewakili total penyewaan untuk tanggal tertentu.\n",
        "- Ini membantu memvisualisasikan tren keseluruhan, musiman, dan peristiwa atau anomali signifikan dalam data penyewaan dari waktu ke waktu.\n",
        "- Tren naik menunjukkan popularitas yang meningkat, sementara penurunan mungkin mewakili musim off atau faktor lain yang memengaruhi penyewaan.\n",
        "\"\"\")\n"
      ],
      "metadata": {
        "id": "13ELBkEdzSQG",
        "colab": {
          "base_uri": "https://localhost:8080/"
        },
        "outputId": "36b453b5-77f3-40ba-a406-123b11e4ec13"
      },
      "execution_count": 48,
      "outputs": [
        {
          "output_type": "execute_result",
          "data": {
            "text/plain": [
              "DeltaGenerator()"
            ]
          },
          "metadata": {},
          "execution_count": 48
        }
      ]
    },
    {
      "cell_type": "markdown",
      "source": [
        "### RFM Analysis\n"
      ],
      "metadata": {
        "id": "jasRsbvVzZBx"
      }
    },
    {
      "cell_type": "code",
      "source": [
        "# Bagian Analisis RFM\n",
        "st.subheader('Analisis RFM Penyewaan Sepeda')\n",
        "st.write(\"Bagian ini menganalisis pola penyewaan menggunakan metrik Recency, Frequency, dan Monetary (RFM).\")\n",
        "\n",
        "# Tampilkan tabel RFM\n",
        "st.write(\"Tabel RFM:\")\n",
        "st.write(rfm_df.head())\n",
        "\n",
        "# Visualisasikan skor RFM\n",
        "fig, axes = plt.subplots(1, 3, figsize=(18, 6))\n",
        "sns.histplot(rfm_df['Recency'], kde=True, ax=axes[0])\n",
        "axes[0].set_title('Distribusi Recency')\n",
        "\n",
        "sns.histplot(rfm_df['Frequency'], kde=True, ax=axes[1])\n",
        "axes[1].set_title('Distribusi Frequency')\n",
        "\n",
        "sns.histplot(rfm_df['Monetary'], kde=True, ax=axes[2])\n",
        "axes[2].set_title('Distribusi Monetary')\n",
        "\n",
        "st.pyplot(fig)\n",
        "st.info(\"\"\"\n",
        "Analisis RFM membantu memahami pola penyewaan di berbagai sepeda:\n",
        "- **Recency** mengukur seberapa baru sebuah sepeda disewa.\n",
        "- **Frequency** mengukur seberapa sering sebuah sepeda disewa.\n",
        "- **Monetary** mengukur total jumlah penyewaan (digunakan sebagai proksi untuk nilai).\n",
        "- Metrik ini membantu mengidentifikasi berbagai jenis sepeda (misalnya, yang sering digunakan vs. yang jarang digunakan).\n",
        "\"\"\")\n"
      ],
      "metadata": {
        "id": "1rOgnCNpza1A",
        "colab": {
          "base_uri": "https://localhost:8080/"
        },
        "outputId": "61d7591e-7728-4f9e-cc8b-b0fce47642b6"
      },
      "execution_count": 49,
      "outputs": [
        {
          "output_type": "execute_result",
          "data": {
            "text/plain": [
              "DeltaGenerator()"
            ]
          },
          "metadata": {},
          "execution_count": 49
        }
      ]
    },
    {
      "cell_type": "markdown",
      "metadata": {
        "id": "HZxOiQ6n8DC2"
      },
      "source": [
        "### Pertanyaan 1:"
      ]
    },
    {
      "cell_type": "code",
      "execution_count": 50,
      "metadata": {
        "id": "1swJUdAD8DC2"
      },
      "outputs": [],
      "source": [
        "# Buat tiga kolom untuk baris tengah\n",
        "col3, col4, col5 = st.columns(3)\n",
        "\n",
        "with col3:\n",
        "    st.subheader('Rata-rata Penyewaan per Bulan')\n",
        "    st.line_chart(monthly_avg_rentals.set_index('bulan'))\n",
        "    st.info(\"\"\"\n",
        "    Grafik ini menunjukkan rata-rata jumlah penyewaan sepeda untuk setiap bulan.\n",
        "    - Puncak yang lebih tinggi menunjukkan bulan-bulan dengan lebih banyak penyewaan.\n",
        "    - Titik yang lebih rendah mewakili bulan-bulan dengan lebih sedikit penyewaan.\n",
        "    - Ini dapat membantu mengidentifikasi tren musiman dalam pola penyewaan sepeda.\n",
        "    \"\"\")\n"
      ]
    },
    {
      "cell_type": "markdown",
      "metadata": {
        "id": "DgHI7CiU8DC2"
      },
      "source": [
        "### Pertanyaan 2:"
      ]
    },
    {
      "cell_type": "code",
      "execution_count": 51,
      "metadata": {
        "id": "Go0lCsvO8DC2"
      },
      "outputs": [],
      "source": [
        "with col4:\n",
        "    st.subheader('Rata-rata Penyewaan per Jam')\n",
        "    st.line_chart(hourly_avg_rentals.set_index('hr'))\n",
        "    st.info(\"\"\"\n",
        "    Grafik ini menampilkan rata-rata jumlah penyewaan sepeda untuk setiap jam dalam sehari.\n",
        "    - Puncak sering terjadi pada jam-jam komuter (pagi dan sore).\n",
        "    - Titik-titik rendah biasanya mewakili jam-jam malam.\n",
        "    - Ini membantu mengidentifikasi pola harian dalam penggunaan sepeda.\n",
        "    \"\"\")\n"
      ]
    },
    {
      "cell_type": "markdown",
      "metadata": {
        "id": "_WeHlCeX8DC2"
      },
      "source": [
        "## Conclusion"
      ]
    },
    {
      "cell_type": "markdown",
      "metadata": {
        "id": "ZTcyR48Y8DC2"
      },
      "source": [
        "- Conclution pertanyaan 1 : Untuk mengoptimalkan jumlah penyewaan sepeda yang dipengaruhi oleh pola musiman, disarankan untuk mengantisipasi permintaan yang tinggi selama musim panas, terutama di bulan Juni, dengan menambah stok sepeda dan meningkatkan promosi. Sebaliknya, selama musim dingin, terutama di bulan Desember, di mana permintaan menurun, fokus bisa dialihkan pada pemeliharaan sepeda dan penawaran diskon atau promosi khusus untuk menarik penyewa. Pendekatan ini memanfaatkan peluang puncak dan mengurangi dampak dari periode rendah, sambil mempertimbangkan pengaruh cuaca dan preferensi aktivitas luar ruangan.\n",
        "\n",
        "- Conclution pertanyaan 2 : Untuk mengoptimalkan layanan penyewaan sepeda yang didorong oleh perjalanan komuter, disarankan untuk fokus pada ketersediaan sepeda di sekitar pukul 8 pagi dan 5 sore, ketika permintaan mencapai puncaknya. Mengatur distribusi sepeda dan memastikan perawatan dilakukan pada waktu-waktu dengan permintaan rendah, seperti dini hari, dapat meningkatkan efisiensi operasional. Strategi ini akan membantu memenuhi kebutuhan komuter secara optimal dan meningkatkan pengalaman pengguna dengan meminimalkan kekurangan sepeda selama jam sibuk."
      ]
    }
  ],
  "metadata": {
    "kernelspec": {
      "display_name": "Python 3",
      "language": "python",
      "name": "python3"
    },
    "language_info": {
      "name": "python",
      "version": "3.8.0 (tags/v3.8.0:fa919fd, Oct 14 2019, 19:21:23) [MSC v.1916 32 bit (Intel)]"
    },
    "orig_nbformat": 4,
    "vscode": {
      "interpreter": {
        "hash": "972b3bf27e332e87b5379f2791f6ef9dfc79c71018c370b0d7423235e20fe4d7"
      }
    },
    "colab": {
      "provenance": []
    }
  },
  "nbformat": 4,
  "nbformat_minor": 0
}